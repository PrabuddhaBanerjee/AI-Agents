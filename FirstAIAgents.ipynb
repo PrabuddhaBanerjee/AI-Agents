{
  "nbformat": 4,
  "nbformat_minor": 0,
  "metadata": {
    "colab": {
      "provenance": [],
      "authorship_tag": "ABX9TyPeUrkELI0+FCG5a8asX8z1",
      "include_colab_link": true
    },
    "kernelspec": {
      "name": "python3",
      "display_name": "Python 3"
    },
    "language_info": {
      "name": "python"
    }
  },
  "cells": [
    {
      "cell_type": "markdown",
      "metadata": {
        "id": "view-in-github",
        "colab_type": "text"
      },
      "source": [
        "<a href=\"https://colab.research.google.com/github/PrabuddhaBanerjee/AI-Agents/blob/main/FirstAIAgents.ipynb\" target=\"_parent\"><img src=\"https://colab.research.google.com/assets/colab-badge.svg\" alt=\"Open In Colab\"/></a>"
      ]
    },
    {
      "cell_type": "code",
      "execution_count": null,
      "metadata": {
        "id": "iomAKz_pYs3y"
      },
      "outputs": [],
      "source": [
        "!pip install -q crewai"
      ]
    },
    {
      "cell_type": "code",
      "source": [
        "!pip install -q 'crewai[tools]'"
      ],
      "metadata": {
        "id": "ejO1PWacZYNi"
      },
      "execution_count": null,
      "outputs": []
    },
    {
      "cell_type": "code",
      "source": [
        "!pip install python-dotenv"
      ],
      "metadata": {
        "id": "dZtLxd0LZsAW"
      },
      "execution_count": null,
      "outputs": []
    },
    {
      "cell_type": "code",
      "source": [
        "%load_ext dotenv\n",
        "%dotenv"
      ],
      "metadata": {
        "id": "k8FunFyAdeMo"
      },
      "execution_count": null,
      "outputs": []
    },
    {
      "cell_type": "code",
      "source": [
        "import os\n",
        "from crewai import Agent, Task, Crew, process\n",
        "from crewai_tools import SerperDevTool"
      ],
      "metadata": {
        "id": "ziamuEqHdmcI"
      },
      "execution_count": 5,
      "outputs": []
    },
    {
      "cell_type": "code",
      "source": [
        "search_tool = SerperDevTool()"
      ],
      "metadata": {
        "id": "eEQNxreRd642"
      },
      "execution_count": 6,
      "outputs": []
    },
    {
      "cell_type": "code",
      "source": [
        "from langchain_openai import ChatOpenAI"
      ],
      "metadata": {
        "id": "_Ias_JRieBmT"
      },
      "execution_count": 7,
      "outputs": []
    },
    {
      "cell_type": "code",
      "source": [
        "#Define the Chat Agent Roles and goals\n",
        "researcher = Agent(\n",
        "    role = \"Senior Research Assistant\",\n",
        "    goal = \"Lookup latest advancements in AI Agents\",\n",
        "    backstory = \"\"\"You work at leading think tank.\n",
        "    Your expertise lies in emerging trends.\n",
        "    You have a knack of dissecting complex data and presenting actionable insights.\"\"\",\n",
        "    verbose = True,\n",
        "    allow_delegations = False, #we want researcher to research and not delegate to other agent.\n",
        "    tools = [search_tool],\n",
        "    llm = ChatOpenAI(model_name = \"gpt-3.5-turbo\", temperature =0.3)\n",
        "\n",
        ")"
      ],
      "metadata": {
        "id": "72hwbzDreLti"
      },
      "execution_count": 8,
      "outputs": []
    },
    {
      "cell_type": "markdown",
      "source": [
        "https://platform.openai.com/api-keys\n",
        "Serper\n",
        "https://platform.openai.com/docs/models/gpt-3-5-turbo"
      ],
      "metadata": {
        "id": "RanomgW6Uqhg"
      }
    },
    {
      "cell_type": "code",
      "source": [
        "#Define the Chat Agent Roles and goals\n",
        "writer = Agent(\n",
        "    role = \"Professional Short Article-Writer\",\n",
        "    goal = \"Summarise latest advancements in AI agents in concise article\",\n",
        "    backstory = \"\"\"You are renowned Content Strategist, known for your insightful and engaging articles.\n",
        "    You transform complex concepts into compelling narratives.\"\"\",\n",
        "    verbose = True,\n",
        "    allow_delegations = True, #we want researcher to research and not delegate to other agent.\n",
        "    # tools = [search_tool],\n",
        "    llm = ChatOpenAI(model_name = \"gpt-3.5-turbo\", temperature =0.7)\n",
        "\n",
        ")"
      ],
      "metadata": {
        "id": "UMQlyyCGYvrr"
      },
      "execution_count": 9,
      "outputs": []
    },
    {
      "cell_type": "code",
      "source": [
        "#Create Task1\n",
        "task1 = Task(\n",
        "    description = \"\"\"Conduct an comprehensive analysis of latest advancement in AI agents in March.\n",
        "    Identify key trends, breakthrough technologies, and potential industry impact\"\"\",\n",
        "    expected_output = \"Full Analysis report in bullet points\",\n",
        "    agent = researcher\n",
        ")"
      ],
      "metadata": {
        "id": "5_xdpSwQavhG"
      },
      "execution_count": 10,
      "outputs": []
    },
    {
      "cell_type": "code",
      "source": [
        "#Create Task2\n",
        "task2 = Task(\n",
        "    description = \"\"\"Using insights provided write short article\n",
        "    that highlights the most significant AI Agent advancements.\n",
        "    Your post should be informative and yet accessible, catering to a tech savvy audience.\n",
        "    Make it sound cool, avoid complex words so it doesnt sounds like an AI\"\"\",\n",
        "    expected_output = \"Full blog post with atleast 3 paragraphs\",\n",
        "    agent = writer\n",
        ")"
      ],
      "metadata": {
        "id": "RcjkStOFbszO"
      },
      "execution_count": 11,
      "outputs": []
    },
    {
      "cell_type": "code",
      "source": [
        "#Instantiate Crew\n",
        "crew = Crew(\n",
        "    agents = [researcher, writer],\n",
        "    tasks = [task1, task2],\n",
        "    verbose = 1 #logging level give 1 or 2\n",
        ")"
      ],
      "metadata": {
        "id": "gbE_5dWXc-23"
      },
      "execution_count": 12,
      "outputs": []
    },
    {
      "cell_type": "code",
      "source": [
        "result = crew.kickoff()\n",
        "print(\"#######################\")\n",
        "print(result)"
      ],
      "metadata": {
        "id": "ViBpHC2CddOy"
      },
      "execution_count": null,
      "outputs": []
    }
  ]
}