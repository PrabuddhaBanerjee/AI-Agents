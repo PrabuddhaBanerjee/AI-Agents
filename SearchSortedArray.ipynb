{
  "nbformat": 4,
  "nbformat_minor": 0,
  "metadata": {
    "colab": {
      "provenance": [],
      "authorship_tag": "ABX9TyPJnyBzMu/yosHxiwhXNuzz",
      "include_colab_link": true
    },
    "kernelspec": {
      "name": "python3",
      "display_name": "Python 3"
    },
    "language_info": {
      "name": "python"
    }
  },
  "cells": [
    {
      "cell_type": "markdown",
      "metadata": {
        "id": "view-in-github",
        "colab_type": "text"
      },
      "source": [
        "<a href=\"https://colab.research.google.com/github/PrabuddhaBanerjee/AI-Agents/blob/main/SearchSortedArray.ipynb\" target=\"_parent\"><img src=\"https://colab.research.google.com/assets/colab-badge.svg\" alt=\"Open In Colab\"/></a>"
      ]
    },
    {
      "cell_type": "markdown",
      "source": [
        "## 33. Search in Rotated Sorted Array\n",
        "\n",
        "There is an integer array nums sorted in ascending order (with distinct values).\n",
        "\n",
        "*Prior to being passed to your function, nums is possibly rotated at an unknown pivot index k (1 <= k < nums.length) such that the resulting array is [nums[k], nums[k+1], ..., nums[n-1], nums[0], nums[1], ..., nums[k-1]] (0-indexed). For example, [0,1,2,4,5,6,7] might be rotated at pivot index 3 and become [4,5,6,7,0,1,2].*\n",
        "\n",
        "Given the array nums after the possible rotation and an integer target, return the index of target if it is in nums, or -1 if it is not in nums.\n",
        "\n",
        "\n",
        "*You must write an algorithm with O(log n) runtime complexity.*\n",
        "\n",
        "***Input:*** nums = [4,5,6,7,0,1,2], ***target*** = 0;\n",
        "\n",
        "***Output:*** 4\n",
        "\n",
        "***Input:*** nums = [4,5,6,7,0,1,2], ***target*** = 3;\n",
        "\n",
        "***Output:*** -1"
      ],
      "metadata": {
        "id": "KyQQuGPRjzro"
      }
    },
    {
      "cell_type": "code",
      "source": [
        "class Solution(object):\n",
        "    def search(self, nums, target):\n",
        "\n",
        "        # array is not sorted, but rotated at pivot index\n",
        "        low=0\n",
        "        high=len(nums)-1\n",
        "\n",
        "        while low<=high:\n",
        "            mid=(low+high)//2\n",
        "            if nums[mid]==target:\n",
        "                return mid\n",
        "            if nums[low]<=nums[mid]:\n",
        "                if target <= nums[mid] and target >= nums[low]:\n",
        "                    high=mid-1\n",
        "                else:\n",
        "                    low=mid+1\n",
        "            else:\n",
        "                if target <= nums[high] and target >= nums[mid]:\n",
        "                    low=mid+1\n",
        "                else:\n",
        "                    high=mid-1\n",
        "\n",
        "        return -1"
      ],
      "metadata": {
        "id": "9D2Huu0CkrC8"
      },
      "execution_count": null,
      "outputs": []
    }
  ]
}