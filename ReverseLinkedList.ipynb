{
  "nbformat": 4,
  "nbformat_minor": 0,
  "metadata": {
    "colab": {
      "provenance": [],
      "authorship_tag": "ABX9TyPuC9spPbV5ot4Q4dpbUY6n",
      "include_colab_link": true
    },
    "kernelspec": {
      "name": "python3",
      "display_name": "Python 3"
    },
    "language_info": {
      "name": "python"
    }
  },
  "cells": [
    {
      "cell_type": "markdown",
      "metadata": {
        "id": "view-in-github",
        "colab_type": "text"
      },
      "source": [
        "<a href=\"https://colab.research.google.com/github/PrabuddhaBanerjee/AI-Agents/blob/main/ReverseLinkedList.ipynb\" target=\"_parent\"><img src=\"https://colab.research.google.com/assets/colab-badge.svg\" alt=\"Open In Colab\"/></a>"
      ]
    },
    {
      "cell_type": "markdown",
      "source": [
        "##206. Reverse Linked List\n",
        "Given the head of a singly linked list, reverse the list, and return the reversed list.\n",
        "\n",
        "Example 1:\n",
        "***Input:***\n",
        "head = [1,2,3,4,5]\n",
        "\n",
        "***Output:*** [5,4,3,2,1]"
      ],
      "metadata": {
        "id": "WzXWUbkqa0JA"
      }
    },
    {
      "cell_type": "code",
      "source": [
        "# Definition for singly-linked list.\n",
        "# class ListNode(object):\n",
        "#     def __init__(self, val=0, next=None):\n",
        "#         self.val = val\n",
        "#         self.next = next\n",
        "class Solution(object):\n",
        "    def reverseList(self, head):\n",
        "        \"\"\"\n",
        "        :type head: Optional[ListNode]\n",
        "        :rtype: Optional[ListNode]\n",
        "        \"\"\"\n",
        "        prev = None\n",
        "        curr = head\n",
        "\n",
        "        while curr is not None:\n",
        "            next_node = curr.next       # Store the next node before modifying curr.next\n",
        "            curr.next = prev            # Reverse the current node's pointer\n",
        "            prev =  curr                # Move prev to the current node\n",
        "            curr = next_node            # Move curr to the next node\n",
        "\n",
        "        return prev                         # prev will be the new head of the reversed list\n"
      ],
      "metadata": {
        "id": "JKPPVV9ra5NC"
      },
      "execution_count": null,
      "outputs": []
    }
  ]
}